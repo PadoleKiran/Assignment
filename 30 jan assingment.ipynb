{
 "cells": [
  {
   "cell_type": "code",
   "execution_count": 3,
   "id": "5db21e41",
   "metadata": {},
   "outputs": [
    {
     "data": {
      "text/plain": [
       "'\\n>90              A\\n>80 and <= 90    B\\n>= 60 and <= 80  C\\nbelow 60         D\\n'"
      ]
     },
     "execution_count": 3,
     "metadata": {},
     "output_type": "execute_result"
    }
   ],
   "source": [
    "# Q1 write a python program to accept percentage from the user and display the grade accoding to the following criteria\n",
    "\"\"\"\n",
    ">90              A\n",
    ">80 and <= 90    B\n",
    ">= 60 and <= 80  C\n",
    "below 60         D\n",
    "\"\"\""
   ]
  },
  {
   "cell_type": "code",
   "execution_count": 1,
   "id": "48faf1ed",
   "metadata": {},
   "outputs": [
    {
     "name": "stdout",
     "output_type": "stream",
     "text": [
      "Enter your marks : 90\n",
      "B Grade\n"
     ]
    }
   ],
   "source": [
    "marks = int(input(\"Enter your marks : \"))\n",
    "\n",
    "if marks > 90:\n",
    "    print(\"A Grade\")\n",
    "elif marks > 80 and marks <= 90:\n",
    "    print(\"B Grade\")\n",
    "elif marks >= 60 and marks <= 80:\n",
    "    print(\"C Grade\")\n",
    "else :\n",
    "    print(\"D Grade\")"
   ]
  },
  {
   "cell_type": "code",
   "execution_count": 4,
   "id": "2a577e5a",
   "metadata": {},
   "outputs": [
    {
     "data": {
      "text/plain": [
       "'Q2 write a python program to accept the cost price of a bike and display the road tax to be paid according to the following criteria :\\n\\ntax     cost pice(in rs)\\n15%      >100000\\n10%      >50000 and <= 100000\\n5%       <= 50000  '"
      ]
     },
     "execution_count": 4,
     "metadata": {},
     "output_type": "execute_result"
    }
   ],
   "source": [
    "\"\"\"Q2 write a python program to accept the cost price of a bike and display the road tax to be paid according to the following criteria :\n",
    "\n",
    "tax     cost pice(in rs)\n",
    "15%      >100000\n",
    "10%      >50000 and <= 100000\n",
    "5%       <= 50000  \"\"\""
   ]
  },
  {
   "cell_type": "code",
   "execution_count": 14,
   "id": "1a572ba4",
   "metadata": {},
   "outputs": [
    {
     "name": "stdout",
     "output_type": "stream",
     "text": [
      "Enter the cost of the Bike : 500000\n",
      "15% tax :  75000.0\n"
     ]
    }
   ],
   "source": [
    "cost = int(input(\"Enter the cost of the Bike : \"))\n",
    "\n",
    "if cost > 100000 :\n",
    "    \n",
    "    print(\"15% tax : \", cost*(15/100))\n",
    "elif cost >50000 and cost <= 100000:\n",
    "    print(\"10% tax :\", cost*(10/100))\n",
    "else :\n",
    "    print(\"5% tax  :\",cost*(5/100))"
   ]
  },
  {
   "cell_type": "code",
   "execution_count": 5,
   "id": "b50284a8",
   "metadata": {},
   "outputs": [
    {
     "data": {
      "text/plain": [
       "'Q3 Accept any city from user and display monuments of the city.\\n\\ncity     monumnents\\n\\nDelhi    Red Fort\\nAgra     Taj Mahal\\nJaipur   Jal Mahal'"
      ]
     },
     "execution_count": 5,
     "metadata": {},
     "output_type": "execute_result"
    }
   ],
   "source": [
    "\"\"\"Q3 Accept any city from user and display monuments of the city.\n",
    "\n",
    "city     monumnents\n",
    "\n",
    "Delhi    Red Fort\n",
    "Agra     Taj Mahal\n",
    "Jaipur   Jal Mahal\"\"\""
   ]
  },
  {
   "cell_type": "code",
   "execution_count": 26,
   "id": "3d4dbf72",
   "metadata": {},
   "outputs": [
    {
     "name": "stdout",
     "output_type": "stream",
     "text": [
      "Enter the city name : Delhi\n",
      "City : Delhi Monument : Red fort\n"
     ]
    }
   ],
   "source": [
    "city = input(\"Enter the city name : \")\n",
    "\n",
    "if city.lower() == \"delhi\":\n",
    "    print(\"City : Delhi Monument : Red fort\")\n",
    "elif city.lower() == \"Agra\":\n",
    "    print(\"City : Agra Monument : Taj mahal\")\n",
    "elif city.lower() == \"jaipur\":\n",
    "    print(\"City : jaipur Monument : jal mahal\")\n",
    "else :\n",
    "    print(city,\"is not in Quection\")"
   ]
  },
  {
   "cell_type": "code",
   "execution_count": 6,
   "id": "76386b0b",
   "metadata": {},
   "outputs": [],
   "source": [
    "#Q4 check how many times a given number divided by 3 before it is less than #or equak to 10."
   ]
  },
  {
   "cell_type": "code",
   "execution_count": 33,
   "id": "5be4681a",
   "metadata": {},
   "outputs": [
    {
     "name": "stdout",
     "output_type": "stream",
     "text": [
      "Enter the number : 100\n",
      "That many times  100  divided by 3 : 2\n"
     ]
    }
   ],
   "source": [
    "num = int(input(\"Enter the number : \"))\n",
    "num1 = num\n",
    "d_count = 0\n",
    "\n",
    "for i in range(num):\n",
    "    count = num/3\n",
    "    \n",
    "    if count > 10:\n",
    "        d_count += 1\n",
    "    else:\n",
    "        break\n",
    "    \n",
    "    num = count\n",
    "print(\"That many times \" ,num1,\" divided by 3 :\",d_count)    "
   ]
  },
  {
   "cell_type": "code",
   "execution_count": 7,
   "id": "fcb7d596",
   "metadata": {},
   "outputs": [
    {
     "data": {
      "text/plain": [
       "'Q5 Why and when to use while loop in python give detailed description with example\\n\\nAns :\\n      Python while loop is used to run a block code until a certain condition is met. Here, A while loop evaluates the condition. If the condition evaluates to True , the code inside the while loop is executed.\\n      \\n      i = 1\\n      n = 5\\n\\n      # while loop from i = 1 to 5\\n      while i <= n:\\n          print(i)\\n          i = i + 1\\n          '"
      ]
     },
     "execution_count": 7,
     "metadata": {},
     "output_type": "execute_result"
    }
   ],
   "source": [
    "\"\"\"Q5 Why and when to use while loop in python give detailed description with example\n",
    "\n",
    "Ans :\n",
    "      Python while loop is used to run a block code until a certain condition is met. Here, A while loop evaluates the condition. If the condition evaluates to True , the code inside the while loop is executed.\n",
    "      \n",
    "      i = 1\n",
    "      n = 5\n",
    "\n",
    "      # while loop from i = 1 to 5\n",
    "      while i <= n:\n",
    "          print(i)\n",
    "          i = i + 1\n",
    "          \"\"\""
   ]
  },
  {
   "cell_type": "code",
   "execution_count": 8,
   "id": "8f303e5c",
   "metadata": {},
   "outputs": [],
   "source": [
    "# Q6 use nested while loop to print 3 different pattern."
   ]
  },
  {
   "cell_type": "code",
   "execution_count": 2,
   "id": "37f9cb58",
   "metadata": {},
   "outputs": [
    {
     "name": "stdout",
     "output_type": "stream",
     "text": [
      "1 \n",
      "1 2 \n",
      "1 2 3 \n",
      "1 2 3 4 \n",
      "1 2 3 4 5 \n"
     ]
    }
   ],
   "source": [
    "i = 1\n",
    "while i <= 5:\n",
    "    j = 1\n",
    "    while j <= i:\n",
    "        print(j , end =\" \")\n",
    "        j += 1\n",
    "    print(\"\")\n",
    "    i += 1"
   ]
  },
  {
   "cell_type": "code",
   "execution_count": 2,
   "id": "1903b811",
   "metadata": {},
   "outputs": [
    {
     "name": "stdout",
     "output_type": "stream",
     "text": [
      "1 1 1 1 1 \n",
      "2 2 2 2 \n",
      "3 3 3 \n",
      "4 4 \n",
      "5 \n"
     ]
    }
   ],
   "source": [
    "i = 1\n",
    "while i <= 5:\n",
    "    j = 5\n",
    "    while j >= i:\n",
    "        print(i , end =\" \")\n",
    "        j -= 1\n",
    "    print(\"\")\n",
    "    i += 1"
   ]
  },
  {
   "cell_type": "code",
   "execution_count": 4,
   "id": "fadcf9f3",
   "metadata": {},
   "outputs": [
    {
     "name": "stdout",
     "output_type": "stream",
     "text": [
      "* \n",
      "* * \n",
      "* * * \n",
      "* * * * \n",
      "* * * * * \n",
      "* * * * * \n",
      "* * * * \n",
      "* * * \n",
      "* * \n",
      "* \n"
     ]
    }
   ],
   "source": [
    "i = 1\n",
    "while i <= 5:\n",
    "    j = 1\n",
    "    while j <= i:\n",
    "        print(\"*\" , end =\" \")\n",
    "        j += 1\n",
    "    print(\"\")\n",
    "    i += 1\n",
    "i = 1\n",
    "while i <= 5:\n",
    "    j = 5\n",
    "    while j >= i:\n",
    "        print(\"*\" , end =\" \")\n",
    "        j -= 1\n",
    "    print(\"\")\n",
    "    i += 1"
   ]
  },
  {
   "cell_type": "raw",
   "id": "30314dc6",
   "metadata": {},
   "source": [
    "Q7 reverse a while loop to display number from 10 to 1"
   ]
  },
  {
   "cell_type": "code",
   "execution_count": 2,
   "id": "2ba4976b",
   "metadata": {},
   "outputs": [
    {
     "name": "stdout",
     "output_type": "stream",
     "text": [
      "10 9 8 7 6 5 4 3 2 1 "
     ]
    }
   ],
   "source": [
    "i = 10\n",
    "while i>=1:\n",
    "    print(i,end =\" \")\n",
    "    i -= 1"
   ]
  },
  {
   "cell_type": "code",
   "execution_count": null,
   "id": "82f3d290",
   "metadata": {},
   "outputs": [],
   "source": []
  }
 ],
 "metadata": {
  "kernelspec": {
   "display_name": "Python 3 (ipykernel)",
   "language": "python",
   "name": "python3"
  },
  "language_info": {
   "codemirror_mode": {
    "name": "ipython",
    "version": 3
   },
   "file_extension": ".py",
   "mimetype": "text/x-python",
   "name": "python",
   "nbconvert_exporter": "python",
   "pygments_lexer": "ipython3",
   "version": "3.11.0"
  }
 },
 "nbformat": 4,
 "nbformat_minor": 5
}
