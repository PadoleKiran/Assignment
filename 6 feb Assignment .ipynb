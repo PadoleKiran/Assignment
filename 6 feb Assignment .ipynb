{
 "cells": [
  {
   "cell_type": "code",
   "execution_count": 64,
   "id": "1183e297",
   "metadata": {},
   "outputs": [
    {
     "data": {
      "text/plain": [
       "[1,\n",
       " 4,\n",
       " 9,\n",
       " 16,\n",
       " 1936,\n",
       " 3025,\n",
       " 4356,\n",
       " 1156,\n",
       " 3136,\n",
       " 6084,\n",
       " 7921,\n",
       " 1156,\n",
       " 1,\n",
       " 4,\n",
       " 9,\n",
       " 1156,\n",
       " 3025,\n",
       " 4489,\n",
       " 6084,\n",
       " 7921,\n",
       " 2025,\n",
       " 484,\n",
       " 3721,\n",
       " 1156,\n",
       " 3136]"
      ]
     },
     "execution_count": 64,
     "metadata": {},
     "output_type": "execute_result"
    }
   ],
   "source": [
    "\"\"\"Q1. Create a function which will take a list as an argument and return the product of all the numbers \n",
    "after creating a flat list.\n",
    "\"\"\"\n",
    "#ans :\n",
    "\n",
    "def func(l):\n",
    "    l2 = []\n",
    "    \n",
    "    for i in l:\n",
    "        if type(i) == int:   #this logic for normal int\n",
    "            l2.append(i*i)\n",
    "        elif type(i) == list:  #this logic for list\n",
    "            for j in i:\n",
    "                if type(j) == int:\n",
    "                    l2.append(j*j)\n",
    "                    \n",
    "        elif type(i) == tuple:  #this logic for tuple\n",
    "            for t in i:\n",
    "                if type(t) == int:\n",
    "                    l2.append(t*t)\n",
    "                    \n",
    "        elif type(i) == set:  #this logic for set\n",
    "            for s in i:\n",
    "                if type(s) == int:\n",
    "                    l2.append(s*s)\n",
    "                    \n",
    "        elif type(i) == dict:  #this logic for dictionary\n",
    "            for d in i:\n",
    "                if type(i[d]) == int:\n",
    "                    l2.append(i[d]*i[d])\n",
    "                elif type(i[d]) == list:  #this logic for list into dictionary\n",
    "                    for k in i[d]:\n",
    "                        if type(k) == int:\n",
    "                            l2.append(k*k)\n",
    "                elif type(i[d]) == tuple:  #this logic for tuple into dictionary\n",
    "                    for m in i[d]:\n",
    "                        if type(m) == int:\n",
    "                            l2.append(m*m)\n",
    "                    \n",
    "\n",
    "    return l2\n",
    "    \n",
    "    \n",
    "    \n",
    "list1 = [1,2,3,4, [44,55,66, True], False, (34,56,78,89,34), {1,2,3,3,2,1}, {1:34, \"key2\": [55, 67, 78, 89], 4: (45, \n",
    "22, 61, 34)}, [56, 'data science'], 'Machine Learning']\n",
    "\n",
    "func(list1)"
   ]
  },
  {
   "cell_type": "code",
   "execution_count": null,
   "id": "cacd6c9b",
   "metadata": {},
   "outputs": [],
   "source": []
  },
  {
   "cell_type": "code",
   "execution_count": 15,
   "id": "3e32fec9",
   "metadata": {},
   "outputs": [
    {
     "name": "stdout",
     "output_type": "stream",
     "text": [
      "Enter the string : I want to become a Data Scientist\n",
      "Encripted :  i eanh hm becmme a daha lcienhilh\n"
     ]
    }
   ],
   "source": [
    "\"\"\"Q2. Write a python program for encrypting a message sent to you by your friend. The logic of encryption \n",
    "should be such that, for a the output should be z. For b, the output should be y. For c, the output should \n",
    "be x respectively. Also, the whitespace should be replaced with a dollar sign. Keep the punctuation \n",
    "marks unchanged.\n",
    "\"\"\"\n",
    "\n",
    "d = {'z':'b','y':'c','x':'d','w':'e','v':'f','u':'g','t':'h','s':'l','r':'j','q':'k','p':'l','o':'m','a':'m'}\n",
    "message = input(\"Enter the string : \")\n",
    "l2 = []\n",
    "\n",
    "\n",
    "for i in message.lower():\n",
    "    if i == 'z':\n",
    "        l2.append(d[i])\n",
    "    elif i == 'y':\n",
    "        l2.append(d[i])\n",
    "    elif i == 'x':\n",
    "        l2.append(d[i])\n",
    "    elif i == 'w':\n",
    "        l2.append(d[i])\n",
    "    elif i == 'v':\n",
    "        l2.append(d[i])\n",
    "    elif i == 'u':\n",
    "        l2.append(d[i])\n",
    "    elif i == 't':\n",
    "        l2.append(d[i])\n",
    "    elif i == 's':\n",
    "        l2.append(d[i])\n",
    "    elif i == 'r':\n",
    "        l2.append(d[i])\n",
    "    elif i == 'q':\n",
    "        l2.append(d[i])\n",
    "    elif i == 'p':\n",
    "        l2.append(d[i])\n",
    "    elif i == 'o':\n",
    "        l2.append(d[i])\n",
    "    elif i == 'q':\n",
    "        l2.append(d[i])\n",
    "    else :\n",
    "        l2.append(i)\n",
    "        \n",
    "s1 = \"\"\n",
    "\n",
    "for i in l2:\n",
    "    s1 += i\n",
    "print(\"Encripted : \",s1)"
   ]
  },
  {
   "cell_type": "code",
   "execution_count": null,
   "id": "61250c57",
   "metadata": {},
   "outputs": [],
   "source": []
  }
 ],
 "metadata": {
  "kernelspec": {
   "display_name": "Python 3 (ipykernel)",
   "language": "python",
   "name": "python3"
  },
  "language_info": {
   "codemirror_mode": {
    "name": "ipython",
    "version": 3
   },
   "file_extension": ".py",
   "mimetype": "text/x-python",
   "name": "python",
   "nbconvert_exporter": "python",
   "pygments_lexer": "ipython3",
   "version": "3.11.0"
  }
 },
 "nbformat": 4,
 "nbformat_minor": 5
}
