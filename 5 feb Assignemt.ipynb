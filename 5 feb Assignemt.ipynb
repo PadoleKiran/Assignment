{
 "cells": [
  {
   "cell_type": "code",
   "execution_count": 4,
   "id": "8e1cf761",
   "metadata": {},
   "outputs": [
    {
     "data": {
      "text/plain": [
       "'This is an example of class and object'"
      ]
     },
     "execution_count": 4,
     "metadata": {},
     "output_type": "execute_result"
    }
   ],
   "source": [
    "\"\"\"Q1. Explain Class and Object with respect to Object-Oriented Programming. Give a suitable example.\"\"\"\n",
    "#ans :\n",
    "\n",
    "\"\"\"It is a user-defined data type, that holds its own data members and member functions, which can be accessed and used by creating an instance of that class. It is the blueprint of any object.\"\"\"\n",
    "\"\"\"Object is an instance of a class. All data members and member functions of the class can be accessed with the help of objects. When a class is defined, no memory is allocated, but memory is allocated when it is instantiated (i.e. an object is created)\"\"\"\n",
    "\n",
    "class answer :               #class\n",
    "    def display(self):\n",
    "        return \"This is an example of class and object\"\n",
    "    \n",
    "a = answer()  #object\n",
    "\n",
    "a.display()"
   ]
  },
  {
   "cell_type": "code",
   "execution_count": 5,
   "id": "89190b4d",
   "metadata": {},
   "outputs": [
    {
     "data": {
      "text/plain": [
       "'\\nAbstraction\\nEncapsulation\\nInheritance\\nPolymorphism\\n'"
      ]
     },
     "execution_count": 5,
     "metadata": {},
     "output_type": "execute_result"
    }
   ],
   "source": [
    "\"\"\"Q2. Name the four pillars of OOPs.\"\"\"\n",
    "#ans :\n",
    "\n",
    "\"\"\"\n",
    "Abstraction\n",
    "Encapsulation\n",
    "Inheritance\n",
    "Polymorphism\n",
    "\"\"\""
   ]
  },
  {
   "cell_type": "code",
   "execution_count": 11,
   "id": "93d8491d",
   "metadata": {},
   "outputs": [
    {
     "name": "stdout",
     "output_type": "stream",
     "text": [
      "John\n",
      "36\n",
      "Name : John\n",
      "Age  : 36\n",
      "None\n"
     ]
    }
   ],
   "source": [
    "\"\"\"Q3. Explain why the _init_() function is used. Give a suitable example.\"\"\"\n",
    "#ans :\n",
    "\n",
    "\"\"\"  __init__ is default constructor \n",
    "All classes have a function called __init__(), which is always executed when the class is being initiated.\n",
    "\n",
    "Use the __init__() function to assign values to object properties, or other operations that are necessary to do when the object is being created.\n",
    "\n",
    "The __init__() function is called automatically every time the class is being used to create a new object.\n",
    "\"\"\"\n",
    "\n",
    "class Person:\n",
    "  def __init__(self, name, age):\n",
    "    self.name = name\n",
    "    self.age = age\n",
    "    \n",
    "  def display(self):\n",
    "    print(\"Name :\",self.name)\n",
    "    print(\"Age  :\",self.age)\n",
    "\n",
    "p = Person(\"John\", 36)\n",
    "\n",
    "print(p.name)\n",
    "print(p.age)\n",
    "\n",
    "print(p.display())"
   ]
  },
  {
   "cell_type": "code",
   "execution_count": 12,
   "id": "eb868e82",
   "metadata": {},
   "outputs": [
    {
     "data": {
      "text/plain": [
       "'self represents the instance of the class. By using the “self”  we can access the attributes and methods of the class in python. It binds the attributes with the given arguments.\\n  \\n   Self is the first argument to be passed in Constructor and Instance Method.\\n   \\n   Self is a convention and not a Python keyword .\\n'"
      ]
     },
     "execution_count": 12,
     "metadata": {},
     "output_type": "execute_result"
    }
   ],
   "source": [
    "\"\"\"Q4. Why self is used in OOPs?\"\"\"\n",
    "#Ans :\n",
    "\n",
    "\"\"\"self represents the instance of the class. By using the “self”  we can access the attributes and methods of the class in python. It binds the attributes with the given arguments.\n",
    "  \n",
    "   Self is the first argument to be passed in Constructor and Instance Method.\n",
    "   \n",
    "   Self is a convention and not a Python keyword .\n",
    "\"\"\""
   ]
  },
  {
   "cell_type": "code",
   "execution_count": 13,
   "id": "d658899f",
   "metadata": {},
   "outputs": [
    {
     "data": {
      "text/plain": [
       "'Types of Inheritance in Python\\nTypes of Inheritance depend upon the number of child and parent classes involved. There are four types of inheritance in Python:\\n\\n1 . Single Inheritance: \\n\\nSingle inheritance enables a derived class to inherit properties from a single parent class, thus enabling code reusability and the addition of new features to existing code.\\n\\n2 . Multiple Inheritance: \\nWhen a class can be derived from more than one base class this type of inheritance is called multiple inheritances. In multiple inheritances, all the features of the base classes are inherited into the derived class. \\n\\n3 . Multilevel Inheritance :\\nIn multilevel inheritance, features of the base class and the derived class are further inherited into the new derived class. This is similar to a relationship representing a child and a grandfather. \\n\\n4.Hierarchical Inheritance: \\nWhen more than one derived class are created from a single base this type of inheritance is called hierarchical inheritance. In this program, we have a parent (base) class and two child (derived) classes.\\n\\n5.Hybrid Inheritance: \\nInheritance consisting of multiple types of inheritance is called hybrid inheritance.\\n\\n\\n\\n'"
      ]
     },
     "execution_count": 13,
     "metadata": {},
     "output_type": "execute_result"
    }
   ],
   "source": [
    "\"\"\"Q5. What is inheritance? Give an example for each type of inheritance.\"\"\"\n",
    "#ans :\n",
    "\n",
    "\"\"\"Inheritance is defined as the mechanism of inheriting the properties of the base(parent class) class to the child class.\"\"\"\n",
    "\n",
    "\"\"\"Types of Inheritance in Python\n",
    "Types of Inheritance depend upon the number of child and parent classes involved. There are four types of inheritance in Python:\n",
    "\n",
    "1 . Single Inheritance: \n",
    "\n",
    "Single inheritance enables a derived class to inherit properties from a single parent class, thus enabling code reusability and the addition of new features to existing code.\n",
    "\n",
    "2 . Multiple Inheritance: \n",
    "When a class can be derived from more than one base class this type of inheritance is called multiple inheritances. In multiple inheritances, all the features of the base classes are inherited into the derived class. \n",
    "\n",
    "3 . Multilevel Inheritance :\n",
    "In multilevel inheritance, features of the base class and the derived class are further inherited into the new derived class. This is similar to a relationship representing a child and a grandfather. \n",
    "\n",
    "4.Hierarchical Inheritance: \n",
    "When more than one derived class are created from a single base this type of inheritance is called hierarchical inheritance. In this program, we have a parent (base) class and two child (derived) classes.\n",
    "\n",
    "5.Hybrid Inheritance: \n",
    "Inheritance consisting of multiple types of inheritance is called hybrid inheritance.\n",
    "\n",
    "\n",
    "\n",
    "\"\"\""
   ]
  },
  {
   "cell_type": "code",
   "execution_count": null,
   "id": "c3f14bf1",
   "metadata": {},
   "outputs": [],
   "source": []
  },
  {
   "cell_type": "code",
   "execution_count": 19,
   "id": "17f22bcd",
   "metadata": {},
   "outputs": [
    {
     "name": "stdout",
     "output_type": "stream",
     "text": [
      "This function is in parent class.\n",
      "This function is in child class.\n"
     ]
    }
   ],
   "source": [
    "\n",
    "# single inheritance\n",
    "\n",
    "# Base class\n",
    "class Parent:\n",
    "\tdef func1(self):\n",
    "\t\tprint(\"This function is in parent class.\")\n",
    "\n",
    "# Derived class\n",
    "\n",
    "\n",
    "class Child(Parent):\n",
    "\tdef func2(self):\n",
    "\t\tprint(\"This function is in child class.\")\n",
    "\n",
    "\n",
    "# Driver's code\n",
    "object = Child()\n",
    "object.func1()\n",
    "object.func2()\n"
   ]
  },
  {
   "cell_type": "code",
   "execution_count": 18,
   "id": "e595faab",
   "metadata": {},
   "outputs": [
    {
     "name": "stdout",
     "output_type": "stream",
     "text": [
      "Father : RAM\n",
      "Mother : SITA\n"
     ]
    }
   ],
   "source": [
    "# multiple inheritance\n",
    "\n",
    "# Base class1\n",
    "class Mother:\n",
    "\tmothername = \"\"\n",
    "\n",
    "\tdef mother(self):\n",
    "\t\tprint(self.mothername)\n",
    "\n",
    "# Base class2\n",
    "\n",
    "\n",
    "class Father:\n",
    "\tfathername = \"\"\n",
    "\n",
    "\tdef father(self):\n",
    "\t\tprint(self.fathername)\n",
    "\n",
    "# Derived class\n",
    "\n",
    "\n",
    "class Son(Mother, Father):\n",
    "\tdef parents(self):\n",
    "\t\tprint(\"Father :\", self.fathername)\n",
    "\t\tprint(\"Mother :\", self.mothername)\n",
    "\n",
    "\n",
    "# Driver's code\n",
    "s1 = Son()\n",
    "s1.fathername = \"RAM\"\n",
    "s1.mothername = \"SITA\"\n",
    "s1.parents()\n"
   ]
  },
  {
   "cell_type": "code",
   "execution_count": 17,
   "id": "0b7c59a3",
   "metadata": {},
   "outputs": [
    {
     "name": "stdout",
     "output_type": "stream",
     "text": [
      "Lal mani\n",
      "Grandfather name : Lal mani\n",
      "Father name : Rampal\n",
      "Son name : Prince\n"
     ]
    }
   ],
   "source": [
    "\n",
    "# multilevel inheritance\n",
    "\n",
    "# Base class\n",
    "\n",
    "\n",
    "class Grandfather:\n",
    "\n",
    "\tdef __init__(self, grandfathername):\n",
    "\t\tself.grandfathername = grandfathername\n",
    "\n",
    "# Intermediate class\n",
    "\n",
    "\n",
    "class Father(Grandfather):\n",
    "\tdef __init__(self, fathername, grandfathername):\n",
    "\t\tself.fathername = fathername\n",
    "\n",
    "\t\t# invoking constructor of Grandfather class\n",
    "\t\tGrandfather.__init__(self, grandfathername)\n",
    "\n",
    "# Derived class\n",
    "\n",
    "\n",
    "class Son(Father):\n",
    "\tdef __init__(self, sonname, fathername, grandfathername):\n",
    "\t\tself.sonname = sonname\n",
    "\n",
    "\t\t# invoking constructor of Father class\n",
    "\t\tFather.__init__(self, fathername, grandfathername)\n",
    "\n",
    "\tdef print_name(self):\n",
    "\t\tprint('Grandfather name :', self.grandfathername)\n",
    "\t\tprint(\"Father name :\", self.fathername)\n",
    "\t\tprint(\"Son name :\", self.sonname)\n",
    "\n",
    "\n",
    "# Driver code\n",
    "s1 = Son('Prince', 'Rampal', 'Lal mani')\n",
    "print(s1.grandfathername)\n",
    "s1.print_name()\n"
   ]
  },
  {
   "cell_type": "code",
   "execution_count": 16,
   "id": "7444e70b",
   "metadata": {},
   "outputs": [
    {
     "name": "stdout",
     "output_type": "stream",
     "text": [
      "This function is in parent class.\n",
      "This function is in child 1.\n",
      "This function is in parent class.\n",
      "This function is in child 2.\n"
     ]
    }
   ],
   "source": [
    "# Hierarchical inheritance\n",
    " \n",
    " \n",
    "# Base class\n",
    "class Parent:\n",
    "    def func1(self):\n",
    "        print(\"This function is in parent class.\")\n",
    " \n",
    "# Derived class1\n",
    " \n",
    " \n",
    "class Child1(Parent):\n",
    "    def func2(self):\n",
    "        print(\"This function is in child 1.\")\n",
    " \n",
    "# Derivied class2\n",
    " \n",
    " \n",
    "class Child2(Parent):\n",
    "    def func3(self):\n",
    "        print(\"This function is in child 2.\")\n",
    " \n",
    " \n",
    "# Driver's code\n",
    "object1 = Child1()\n",
    "object2 = Child2()\n",
    "object1.func1()\n",
    "object1.func2()\n",
    "object2.func1()\n",
    "object2.func3()"
   ]
  },
  {
   "cell_type": "code",
   "execution_count": 14,
   "id": "a143d8c9",
   "metadata": {},
   "outputs": [
    {
     "name": "stdout",
     "output_type": "stream",
     "text": [
      "This function is in school.\n",
      "This function is in student 1. \n"
     ]
    }
   ],
   "source": [
    "#Hybrid Inheritance\n",
    "class School:\n",
    "    def func1(self):\n",
    "        print(\"This function is in school.\")\n",
    " \n",
    " \n",
    "class Student1(School):\n",
    "    def func2(self):\n",
    "        print(\"This function is in student 1. \")\n",
    " \n",
    " \n",
    "class Student2(School):\n",
    "    def func3(self):\n",
    "        print(\"This function is in student 2.\")\n",
    " \n",
    " \n",
    "class Student3(Student1, School):\n",
    "    def func4(self):\n",
    "        print(\"This function is in student 3.\")\n",
    " \n",
    " \n",
    "# Driver's code\n",
    "object = Student3()\n",
    "object.func1()\n",
    "object.func2()"
   ]
  },
  {
   "cell_type": "code",
   "execution_count": null,
   "id": "79e08173",
   "metadata": {},
   "outputs": [],
   "source": []
  }
 ],
 "metadata": {
  "kernelspec": {
   "display_name": "Python 3 (ipykernel)",
   "language": "python",
   "name": "python3"
  },
  "language_info": {
   "codemirror_mode": {
    "name": "ipython",
    "version": 3
   },
   "file_extension": ".py",
   "mimetype": "text/x-python",
   "name": "python",
   "nbconvert_exporter": "python",
   "pygments_lexer": "ipython3",
   "version": "3.11.0"
  }
 },
 "nbformat": 4,
 "nbformat_minor": 5
}
