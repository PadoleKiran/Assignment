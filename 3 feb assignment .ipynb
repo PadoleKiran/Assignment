{
 "cells": [
  {
   "cell_type": "code",
   "execution_count": 1,
   "id": "87a29aa8",
   "metadata": {},
   "outputs": [
    {
     "name": "stdout",
     "output_type": "stream",
     "text": [
      "[1, 3, 5, 7, 9, 11, 13, 15, 17, 19, 21, 23, 25]\n"
     ]
    }
   ],
   "source": [
    "\"\"\"Q1. Which keyword is used to create a function? Create a function to return a list of odd numbers in the \n",
    "range of 1 to 25.\"\"\"\n",
    "#ans : \n",
    "\n",
    "#def keyword is use to create function\n",
    "\n",
    "def odd_num():\n",
    "    l = []\n",
    "    for i in range(26):\n",
    "        if i%2 != 0:\n",
    "            l.append(i)\n",
    "    return l\n",
    "\n",
    "print(odd_num())"
   ]
  },
  {
   "cell_type": "code",
   "execution_count": 6,
   "id": "3d287603",
   "metadata": {},
   "outputs": [
    {
     "name": "stdout",
     "output_type": "stream",
     "text": [
      "(1, 2, 3)\n",
      "{'a': 5, 'b': 6}\n"
     ]
    }
   ],
   "source": [
    "\"\"\"Q2. Why *args and **kwargs is used in some functions? Create a function each for *args and **kwargs \n",
    "to demonstrate their use.\"\"\"\n",
    "#ans :\n",
    "\n",
    "#*args and **kwargs are special syntax that are used in functions to pass a variable number of arguments to a function.\n",
    "\n",
    "\n",
    "#*args\n",
    "def test1(*args): #by *args we can create our function dynamic\n",
    "    return args\n",
    "\n",
    "print(test1(1,2,3))\n",
    "\n",
    "#**kwargs\n",
    "def test5(**kwargs): #**kwargs returns dictionary \n",
    "    return kwargs\n",
    "\n",
    "print(test5(a=5,b=6))\n"
   ]
  },
  {
   "cell_type": "code",
   "execution_count": 14,
   "id": "c96a8510",
   "metadata": {},
   "outputs": [
    {
     "name": "stdout",
     "output_type": "stream",
     "text": [
      "2\n",
      "4\n",
      "6\n",
      "8\n",
      "10\n"
     ]
    }
   ],
   "source": [
    "\"\"\"Q3.  What is an iterator in python? Name the method used to initialise the iterator object and the method \n",
    "used for iteration. Use these methods to print the first five elements of the given list [2, 4, 6, 8, 10, 12, 14, \n",
    "16, 18, 20].\"\"\"\n",
    "\n",
    "#ans :\n",
    "\n",
    "#An iterator is an object that contains a countable number of values.\n",
    "\n",
    "#Iter () method is used to initialize the iterator object.\n",
    "\n",
    "m = [2, 4, 6, 8, 10, 12, 14, 16, 18, 20]\n",
    "t = iter(m)\n",
    "\n",
    "print(next(t))\n",
    "print(next(t))\n",
    "print(next(t))\n",
    "print(next(t))\n",
    "print(next(t))"
   ]
  },
  {
   "cell_type": "code",
   "execution_count": 32,
   "id": "88e11376",
   "metadata": {},
   "outputs": [
    {
     "name": "stdout",
     "output_type": "stream",
     "text": [
      "0 1 1 2 3 5 8 13 21 34 "
     ]
    }
   ],
   "source": [
    "\"\"\"Q4.  What is a generator function in python? Why yield keyword is used? Give an example of a generator \n",
    "function.\"\"\"\n",
    "\n",
    "#ans :\n",
    "\n",
    "\"\"\"Generator function in Python is a function that is commonly used to return a sequence of values. Generator function behaves like a normal function but rather it uses a yield statement to return a value instead of return statement. If the body of a function contains yield statement, the function automatically becomes a generator function.\"\"\"\n",
    "\n",
    "def fibo2():\n",
    "    a,b = 0,1\n",
    "    while True:\n",
    "        yield a\n",
    "        a,b = b,a+b\n",
    "        \n",
    "fib = fibo2()\n",
    "\n",
    "for i in range(10):\n",
    "    print(next(fib),end=\" \")"
   ]
  },
  {
   "cell_type": "code",
   "execution_count": 16,
   "id": "25358b68",
   "metadata": {},
   "outputs": [],
   "source": [
    "\"\"\"Q5. Create a generator function for prime numbers less than 1000. Use the next() method to print the \n",
    "first 20 prime numbers.\"\"\"\n",
    "\n",
    "#Ans :\n",
    "\n",
    "def prim():\n",
    "    yield"
   ]
  },
  {
   "cell_type": "code",
   "execution_count": 20,
   "id": "3f620149",
   "metadata": {},
   "outputs": [
    {
     "name": "stdout",
     "output_type": "stream",
     "text": [
      "0 1 1  2  3  5  8  13  21  34  55  89  "
     ]
    }
   ],
   "source": [
    "\"\"\"Q6. Write a python program to print the first 10 Fibonacci numbers using a while loop.\"\"\"\n",
    "\n",
    "#ans :\n",
    "n1 = 0\n",
    "n2 = 1 \n",
    "i = 1\n",
    "print(n1,n2,end=\" \")\n",
    "while i <= 10:\n",
    "    n3 = n1 + n2\n",
    "    print(n3,\" \",end=\"\")\n",
    "    n1 = n2\n",
    "    n2 = n3\n",
    "    i += 1"
   ]
  },
  {
   "cell_type": "code",
   "execution_count": 23,
   "id": "c496eef9",
   "metadata": {},
   "outputs": [
    {
     "name": "stdout",
     "output_type": "stream",
     "text": [
      "['p', 'w', 's', 'k', 'i', 'l', 'l', 's']\n"
     ]
    }
   ],
   "source": [
    "\"\"\"Q7. Write a List Comprehension to iterate through the given string: ‘pwskills’.\n",
    "Expected output: ['p', 'w', 's', 'k', 'i', 'l', 'l', 's'] \"\"\"\n",
    "\n",
    "string = \"pwskills\"\n",
    "\n",
    "print( [i for i in string] )"
   ]
  },
  {
   "cell_type": "code",
   "execution_count": 26,
   "id": "b10c592c",
   "metadata": {},
   "outputs": [
    {
     "name": "stdout",
     "output_type": "stream",
     "text": [
      "Enter a number:101\n",
      "The number is palindrome!\n"
     ]
    }
   ],
   "source": [
    "\"\"\"Q8. Write a python program to check whether a given number is Palindrome or not using a while loop.\"\"\"\n",
    "\n",
    "num=int(input(\"Enter a number:\"))\n",
    "temp=num\n",
    "rev=0\n",
    "while(num>0):\n",
    "    dig=num%10\n",
    "    rev=rev*10+dig\n",
    "    num=num//10\n",
    "    \n",
    "if(temp==rev):\n",
    "    print(\"The number is palindrome!\")\n",
    "else:\n",
    "    print(\"Not a palindrome!\")\n",
    "\n"
   ]
  },
  {
   "cell_type": "code",
   "execution_count": 31,
   "id": "65a54d8c",
   "metadata": {},
   "outputs": [
    {
     "name": "stdout",
     "output_type": "stream",
     "text": [
      "[1, 3, 5, 7, 9, 11, 13, 15, 17, 19, 21, 23, 25, 27, 29, 31, 33, 35, 37, 39, 41, 43, 45, 47, 49, 51, 53, 55, 57, 59, 61, 63, 65, 67, 69, 71, 73, 75, 77, 79, 81, 83, 85, 87, 89, 91, 93, 95, 97, 99]\n"
     ]
    }
   ],
   "source": [
    "\"\"\"Q9. Write a code to print odd numbers from 1 to 100 using list comprehension\"\"\"\n",
    "\n",
    "l = [i for i in range(101) if i%2 != 0]\n",
    "\n",
    "print(l)"
   ]
  },
  {
   "cell_type": "code",
   "execution_count": null,
   "id": "2e3c1a27",
   "metadata": {},
   "outputs": [],
   "source": []
  }
 ],
 "metadata": {
  "kernelspec": {
   "display_name": "Python 3 (ipykernel)",
   "language": "python",
   "name": "python3"
  },
  "language_info": {
   "codemirror_mode": {
    "name": "ipython",
    "version": 3
   },
   "file_extension": ".py",
   "mimetype": "text/x-python",
   "name": "python",
   "nbconvert_exporter": "python",
   "pygments_lexer": "ipython3",
   "version": "3.11.0"
  }
 },
 "nbformat": 4,
 "nbformat_minor": 5
}
