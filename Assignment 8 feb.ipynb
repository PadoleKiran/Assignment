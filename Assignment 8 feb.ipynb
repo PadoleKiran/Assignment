{
 "cells": [
  {
   "cell_type": "code",
   "execution_count": 1,
   "id": "a861d8d0",
   "metadata": {},
   "outputs": [],
   "source": [
    "#Q1. What is Abstraction in OOps? Explain with an example.\n",
    "\n",
    "#ans :\n",
    "\n",
    "#Abstraction helps to hide the complexity from the user and helps to show only the important service to the user.\n",
    "#Abstraction In OOP In simple terms, abstraction “displays” only the relevant attributes of objects and “hides” the unnecessary details\n",
    "\n",
    "#example, when we are driving a car, we are only concerned about driving the car like start/stop the car, accelerate/ break, etc."
   ]
  },
  {
   "cell_type": "code",
   "execution_count": 2,
   "id": "1483d55b",
   "metadata": {},
   "outputs": [],
   "source": [
    "#Q2. Differentiate between Abstraction and Encapsulation. Explain with an example.\n",
    "\n",
    "#ans :\n",
    "\n",
    "#Abstraction focuses on outside viewing, for example, shifting the car, while Encapsulation focuses on internal working or inner viewing."
   ]
  },
  {
   "cell_type": "code",
   "execution_count": 3,
   "id": "a234a22a",
   "metadata": {},
   "outputs": [],
   "source": [
    "#Q3. What is abc module in python? Why is it used?\n",
    "\n",
    "#ans :\n",
    "\n",
    "#As a solution to this inconvenience, Python introduced a concept called abstract base class (abc).\n",
    "#The main goal of the abstract base class is to provide a standardized way to test whether an object adheres to a given specification.\n",
    "#It can also prevent any attempt to instantiate a subclass that doesn’t override a particular method in the superclass.\n",
    "#And finally, using an abstract class, a class can derive identity from another class without any object inheritance."
   ]
  },
  {
   "cell_type": "code",
   "execution_count": 4,
   "id": "5ae2ccfb",
   "metadata": {},
   "outputs": [],
   "source": [
    "#Q4. How can we achieve data abstraction?\n",
    "\n",
    "#ans :\n",
    "\n",
    "#we need to import first acb module for abstraction .\n",
    "#then we need to use   @abc.abstractmethod which we want abstract ."
   ]
  },
  {
   "cell_type": "code",
   "execution_count": 5,
   "id": "ef14ccb5",
   "metadata": {},
   "outputs": [],
   "source": [
    "#Q5. Can we create an instance of an abstract class? Explain your answer.\n",
    "\n",
    "#ans : no we can not creat instance of abstract class ,\n",
    "       # But we can create a reference variable of an abstract class.\n",
    "       # The reference variable is used to refer to the objects of derived classes\n"
   ]
  },
  {
   "cell_type": "code",
   "execution_count": null,
   "id": "b567a65b",
   "metadata": {},
   "outputs": [],
   "source": []
  }
 ],
 "metadata": {
  "kernelspec": {
   "display_name": "Python 3 (ipykernel)",
   "language": "python",
   "name": "python3"
  },
  "language_info": {
   "codemirror_mode": {
    "name": "ipython",
    "version": 3
   },
   "file_extension": ".py",
   "mimetype": "text/x-python",
   "name": "python",
   "nbconvert_exporter": "python",
   "pygments_lexer": "ipython3",
   "version": "3.11.0"
  }
 },
 "nbformat": 4,
 "nbformat_minor": 5
}
