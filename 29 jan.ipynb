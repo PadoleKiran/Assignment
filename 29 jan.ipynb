{
 "cells": [
  {
   "cell_type": "code",
   "execution_count": 11,
   "id": "db1cd825",
   "metadata": {},
   "outputs": [
    {
     "data": {
      "text/plain": [
       "'Q1 who developed python programming language?\\n\\n Ans :\\n    Guido van Rossum\\n    \\n'"
      ]
     },
     "execution_count": 11,
     "metadata": {},
     "output_type": "execute_result"
    }
   ],
   "source": [
    "\"\"\"Q1 who developed python programming language?\n",
    "\n",
    " Ans :\n",
    "    Guido van Rossum\n",
    "    \n",
    "\"\"\""
   ]
  },
  {
   "cell_type": "code",
   "execution_count": 12,
   "id": "9a48db20",
   "metadata": {},
   "outputs": [
    {
     "data": {
      "text/plain": [
       "'Python is an interpreted programming language, supporting object-oriented, structured, and functional programming.'"
      ]
     },
     "execution_count": 12,
     "metadata": {},
     "output_type": "execute_result"
    }
   ],
   "source": [
    "\"\"\"Q2 which type of programing does python support ?\"\"\"\n",
    "#Ans :\n",
    "\"\"\"Python is an interpreted programming language, supporting object-oriented, structured, and functional programming.\"\"\"\n"
   ]
  },
  {
   "cell_type": "code",
   "execution_count": 13,
   "id": "a9b3dc09",
   "metadata": {},
   "outputs": [
    {
     "data": {
      "text/plain": [
       "' Ans\\n\\nyes python is case sensitive when dealing with identifiers ,upper case and lower case letters are differesnt in python\\n'"
      ]
     },
     "execution_count": 13,
     "metadata": {},
     "output_type": "execute_result"
    }
   ],
   "source": [
    "#Q3. is python case sensitive when dealing with identifiers?\n",
    "\"\"\" Ans\n",
    "\n",
    "yes python is case sensitive when dealing with identifiers ,upper case and lower case letters are differesnt in python\n",
    "\"\"\""
   ]
  },
  {
   "cell_type": "code",
   "execution_count": null,
   "id": "5e85170f",
   "metadata": {},
   "outputs": [],
   "source": [
    "\"\"\"Q4 what are the correct extenction of the python file?\n",
    "Ans :\n",
    ".py is extenction of python file\"\"\""
   ]
  },
  {
   "cell_type": "code",
   "execution_count": 14,
   "id": "c1bb64c1",
   "metadata": {},
   "outputs": [
    {
     "data": {
      "text/plain": [
       "'Q5 is python code compiled or iterpreted?\\nAns:\\n    In various books of python programming, it is mentioned that python language is interpreted. But that is half correct the python program is first compiled and then interpreted. The compilation part is hidden from the programmer thus, many programmers believe that it is an interpreted language. The compilation part is done first when we execute our code and this will generate byte code and internally this byte code gets converted by the python virtual machine(p.v.m) according to the underlying platform(machine+operating system).\\n    \\n'"
      ]
     },
     "execution_count": 14,
     "metadata": {},
     "output_type": "execute_result"
    }
   ],
   "source": [
    "\"\"\"Q5 is python code compiled or iterpreted?\n",
    "Ans:\n",
    "    In various books of python programming, it is mentioned that python language is interpreted. But that is half correct the python program is first compiled and then interpreted. The compilation part is hidden from the programmer thus, many programmers believe that it is an interpreted language. The compilation part is done first when we execute our code and this will generate byte code and internally this byte code gets converted by the python virtual machine(p.v.m) according to the underlying platform(machine+operating system).\n",
    "    \n",
    "\"\"\""
   ]
  },
  {
   "cell_type": "code",
   "execution_count": 15,
   "id": "80d43138",
   "metadata": {},
   "outputs": [
    {
     "data": {
      "text/plain": [
       "'Q6 name a few blocks of code used to define in python language?\\nAns :\\n     \\n      a = 5\\n      \\n      if a == 5:\\n         print(\"python\")\\n'"
      ]
     },
     "execution_count": 15,
     "metadata": {},
     "output_type": "execute_result"
    }
   ],
   "source": [
    "\"\"\"Q6 name a few blocks of code used to define in python language?\n",
    "Ans :\n",
    "     \n",
    "      a = 5\n",
    "      \n",
    "      if a == 5:\n",
    "         print(\"python\")\n",
    "\"\"\"    "
   ]
  },
  {
   "cell_type": "code",
   "execution_count": 16,
   "id": "d27b0b22",
   "metadata": {},
   "outputs": [
    {
     "data": {
      "text/plain": [
       "'Q7 state a charecter used to give single line comments in python?\\nand :\\n        #\\n        \\n'"
      ]
     },
     "execution_count": 16,
     "metadata": {},
     "output_type": "execute_result"
    }
   ],
   "source": [
    "\"\"\"Q7 state a charecter used to give single line comments in python?\n",
    "and :\n",
    "        #\n",
    "        \n",
    "\"\"\""
   ]
  },
  {
   "cell_type": "code",
   "execution_count": 17,
   "id": "750851e7",
   "metadata": {},
   "outputs": [
    {
     "data": {
      "text/plain": [
       "'Q8 menction functions which can help us to find the varsion of python that we are currently working on?\\nAns :\\n    sys.version can help us to find the version of python\\n    '"
      ]
     },
     "execution_count": 17,
     "metadata": {},
     "output_type": "execute_result"
    }
   ],
   "source": [
    "\"\"\"Q8 menction functions which can help us to find the varsion of python that we are currently working on?\n",
    "Ans :\n",
    "    sys.version can help us to find the version of python\n",
    "    \"\"\""
   ]
  },
  {
   "cell_type": "code",
   "execution_count": 18,
   "id": "cba9bb54",
   "metadata": {},
   "outputs": [
    {
     "data": {
      "text/plain": [
       "'Q9 python supports the creation of anonymous functions at runtime,using a construct called\\nAns :\\n    Lambda\\n'"
      ]
     },
     "execution_count": 18,
     "metadata": {},
     "output_type": "execute_result"
    }
   ],
   "source": [
    "\"\"\"Q9 python supports the creation of anonymous functions at runtime,using a construct called\n",
    "Ans :\n",
    "    Lambda\n",
    "\"\"\""
   ]
  },
  {
   "cell_type": "code",
   "execution_count": 19,
   "id": "e0912493",
   "metadata": {},
   "outputs": [
    {
     "data": {
      "text/plain": [
       "'Q10 what does pip stands for python?\\nAns:\\n    Pip Installs Packages\\n'"
      ]
     },
     "execution_count": 19,
     "metadata": {},
     "output_type": "execute_result"
    }
   ],
   "source": [
    "\"\"\"Q10 what does pip stands for python?\n",
    "Ans:\n",
    "    Pip Installs Packages\n",
    "\"\"\"    "
   ]
  },
  {
   "cell_type": "code",
   "execution_count": 20,
   "id": "ae1dbf2c",
   "metadata": {},
   "outputs": [
    {
     "data": {
      "text/plain": [
       "'Q11 Menction a few built in functions in python?\\nAns :\\n    len()   Returns the length of an object\\n    list()  Returns a list\\n    tuple() Returns a tuple\\n    type()  Returns the type of an object\\n    zip()   Returns an iterator, from two or more iterators\\n    \\n'"
      ]
     },
     "execution_count": 20,
     "metadata": {},
     "output_type": "execute_result"
    }
   ],
   "source": [
    "\"\"\"Q11 Menction a few built in functions in python?\n",
    "Ans :\n",
    "    len()   Returns the length of an object\n",
    "    list()  Returns a list\n",
    "    tuple() Returns a tuple\n",
    "    type()  Returns the type of an object\n",
    "    zip()   Returns an iterator, from two or more iterators\n",
    "    \n",
    "\"\"\""
   ]
  },
  {
   "cell_type": "code",
   "execution_count": 21,
   "id": "8a0a85d4",
   "metadata": {},
   "outputs": [
    {
     "data": {
      "text/plain": [
       "' Q12 what is the maximum possible length of an identifier in python?\\nAns:\\n    the maximum possible lenth of identifier in python language is 79.\\n    \\n'"
      ]
     },
     "execution_count": 21,
     "metadata": {},
     "output_type": "execute_result"
    }
   ],
   "source": [
    "\"\"\" Q12 what is the maximum possible length of an identifier in python?\n",
    "Ans:\n",
    "    the maximum possible lenth of identifier in python language is 79.\n",
    "    \n",
    "\"\"\""
   ]
  },
  {
   "cell_type": "code",
   "execution_count": 22,
   "id": "c45205e6",
   "metadata": {},
   "outputs": [
    {
     "data": {
      "text/plain": [
       "'Q13 what are the benifit of using python ?\\nAns:\\n    1.open source\\n    2.Work with less code\\n    3.Easy Integrations\\n    \\n '"
      ]
     },
     "execution_count": 22,
     "metadata": {},
     "output_type": "execute_result"
    }
   ],
   "source": [
    "\"\"\"Q13 what are the benifit of using python ?\n",
    "Ans:\n",
    "    1.open source\n",
    "    2.Work with less code\n",
    "    3.Easy Integrations\n",
    "    \n",
    " \"\"\"   "
   ]
  },
  {
   "cell_type": "code",
   "execution_count": 23,
   "id": "4548addd",
   "metadata": {},
   "outputs": [
    {
     "data": {
      "text/plain": [
       "'Q14 how is memory managed in python?\\nAns:\\n    Memory allocation can be defined as allocating a block of space in the computer memory to a program. In Python memory allocation and deallocation method is automatic as the Python developers created a garbage collector for Python so that the user does not have to do manual garbage collection\\n    \\n'"
      ]
     },
     "execution_count": 23,
     "metadata": {},
     "output_type": "execute_result"
    }
   ],
   "source": [
    "\"\"\"Q14 how is memory managed in python?\n",
    "Ans:\n",
    "    Memory allocation can be defined as allocating a block of space in the computer memory to a program. In Python memory allocation and deallocation method is automatic as the Python developers created a garbage collector for Python so that the user does not have to do manual garbage collection\n",
    "    \n",
    "\"\"\""
   ]
  },
  {
   "cell_type": "markdown",
   "id": "5bb06c44",
   "metadata": {},
   "source": [
    "\"\"\"Q15 how to install python on windows and set path variable?\n",
    "Ans :\n",
    "    1.go on python web sit and download python software \n",
    "    2.install that python software \n",
    "    3.go to propertys in this pc \n",
    "    4. Advance system setting -> Environment variable -> click on path ->            pest path (copy path form c/python/bin folder)\n",
    "    \n",
    " \"\"\"   "
   ]
  },
  {
   "cell_type": "code",
   "execution_count": 24,
   "id": "6b70f1d5",
   "metadata": {},
   "outputs": [
    {
     "data": {
      "text/plain": [
       "'Q16 is indentation required in python?\\nAns :\\n    Yes indentation is required in python\\n    \\n'"
      ]
     },
     "execution_count": 24,
     "metadata": {},
     "output_type": "execute_result"
    }
   ],
   "source": [
    "\"\"\"Q16 is indentation required in python?\n",
    "Ans :\n",
    "    Yes indentation is required in python\n",
    "    \n",
    "\"\"\""
   ]
  },
  {
   "cell_type": "code",
   "execution_count": null,
   "id": "d9332b3c",
   "metadata": {},
   "outputs": [],
   "source": []
  },
  {
   "cell_type": "code",
   "execution_count": null,
   "id": "764c125c",
   "metadata": {},
   "outputs": [],
   "source": []
  },
  {
   "cell_type": "code",
   "execution_count": null,
   "id": "182fef0c",
   "metadata": {},
   "outputs": [],
   "source": []
  }
 ],
 "metadata": {
  "kernelspec": {
   "display_name": "Python 3 (ipykernel)",
   "language": "python",
   "name": "python3"
  },
  "language_info": {
   "codemirror_mode": {
    "name": "ipython",
    "version": 3
   },
   "file_extension": ".py",
   "mimetype": "text/x-python",
   "name": "python",
   "nbconvert_exporter": "python",
   "pygments_lexer": "ipython3",
   "version": "3.11.0"
  }
 },
 "nbformat": 4,
 "nbformat_minor": 5
}
