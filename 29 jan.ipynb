{
 "cells": [
  {
   "cell_type": "markdown",
   "id": "c2bffc11",
   "metadata": {},
   "source": [
    "#Q1 who developed python programming language?\n",
    "\n",
    "#Ans :\n",
    "    Guido van Rossum"
   ]
  },
  {
   "cell_type": "markdown",
   "id": "dbddfe54",
   "metadata": {},
   "source": [
    "\"\"\"Q2 which type of programing does python support ?\"\"\"\n",
    "#Ans :\n",
    "\"\"\"Python is an interpreted programming language, supporting object-oriented, structured, and functional programming.\"\"\"\n"
   ]
  },
  {
   "cell_type": "markdown",
   "id": "9ccd27eb",
   "metadata": {},
   "source": [
    "#Q3. is python case sensitive when dealing with identifiers?\n",
    "Ans\n",
    "\n",
    "yes python is case sensitive when dealing with identifiers ,upper case and lower case letters are differesnt in python"
   ]
  },
  {
   "cell_type": "markdown",
   "id": "c3863421",
   "metadata": {},
   "source": [
    "Q4 what are the correct extenction of the python file?\n",
    "Ans :\n",
    ".py is extenction of python file"
   ]
  },
  {
   "cell_type": "markdown",
   "id": "8deeab49",
   "metadata": {},
   "source": [
    "Q5 is python code compiled or iterpreted?\n",
    "Ans:\n",
    "    In various books of python programming, it is mentioned that python language is interpreted. But that is half correct the python program is first compiled and then interpreted. The compilation part is hidden from the programmer thus, many programmers believe that it is an interpreted language. The compilation part is done first when we execute our code and this will generate byte code and internally this byte code gets converted by the python virtual machine(p.v.m) according to the underlying platform(machine+operating system).\n",
    "    \n"
   ]
  },
  {
   "cell_type": "markdown",
   "id": "53e7140e",
   "metadata": {},
   "source": [
    "Q6 name a few blocks of code used to define in python language?\n",
    "Ans :\n",
    "     \n",
    "      a = 5\n",
    "      \n",
    "      if a == 5:\n",
    "         print(\"python\")\n",
    "    "
   ]
  },
  {
   "cell_type": "markdown",
   "id": "72f796bc",
   "metadata": {},
   "source": [
    "Q7 state a charecter used to give single line comments in python?\n",
    "and :\n",
    "        #"
   ]
  },
  {
   "cell_type": "markdown",
   "id": "5d230df1",
   "metadata": {},
   "source": [
    "Q8 menction functions which can help us to find the varsion of python that we are currently working on?\n",
    "Ans :\n",
    "    sys.version can help us to find the version of python\n",
    "    "
   ]
  },
  {
   "cell_type": "markdown",
   "id": "68997320",
   "metadata": {},
   "source": [
    "Q9 python supports the creation of anonymous functions at runtime,using a construct called\n",
    "Ans :\n",
    "    Lambda\n"
   ]
  },
  {
   "cell_type": "markdown",
   "id": "222e6958",
   "metadata": {},
   "source": [
    "Q10 what does pip stands for python?\n",
    "Ans:\n",
    "    Pip Installs Packages\n",
    "    "
   ]
  },
  {
   "cell_type": "markdown",
   "id": "8cf930d1",
   "metadata": {},
   "source": [
    "Q11 Menction a few built in functions in python?\n",
    "Ans :\n",
    "    len()   Returns the length of an object\n",
    "    list()  Returns a list\n",
    "    tuple() Returns a tuple\n",
    "    type()  Returns the type of an object\n",
    "    zip()   Returns an iterator, from two or more iterators"
   ]
  },
  {
   "cell_type": "markdown",
   "id": "b7807678",
   "metadata": {},
   "source": [
    "Q12 what is the maximum possible length of an identifier in python?\n",
    "Ans:\n",
    "    the maximum possible lenth of identifier in python language is 79."
   ]
  },
  {
   "cell_type": "markdown",
   "id": "f93cde56",
   "metadata": {},
   "source": [
    "Q13 what are the benifit of using python ?\n",
    "Ans:\n",
    "    1.open source\n",
    "    2.Work with less code\n",
    "    3.Easy Integrations\n",
    "    \n",
    "    "
   ]
  },
  {
   "cell_type": "markdown",
   "id": "196a024a",
   "metadata": {},
   "source": [
    "Q14 how is memory managed in python?\n",
    "Ans:\n",
    "    Memory allocation can be defined as allocating a block of space in the computer memory to a program. In Python memory allocation and deallocation method is automatic as the Python developers created a garbage collector for Python so that the user does not have to do manual garbage collection"
   ]
  },
  {
   "cell_type": "markdown",
   "id": "1f5270f2",
   "metadata": {},
   "source": [
    "Q15 how to install python on windows and set path variable?\n",
    "Ans :\n",
    "    1.go on python web sit and download python software \n",
    "    2.install that python software \n",
    "    3.go to propertys in this pc \n",
    "    4. Advance system setting -> Environment variable -> click on path ->            pest path (copy path form c/python/bin folder)\n",
    "    \n",
    "    "
   ]
  },
  {
   "cell_type": "markdown",
   "id": "b8885df5",
   "metadata": {},
   "source": [
    "Q16 is indentation required in python?\n",
    "Ans :\n",
    "    Yes indentation is required in python"
   ]
  },
  {
   "cell_type": "code",
   "execution_count": null,
   "id": "d9332b3c",
   "metadata": {},
   "outputs": [],
   "source": []
  },
  {
   "cell_type": "code",
   "execution_count": null,
   "id": "764c125c",
   "metadata": {},
   "outputs": [],
   "source": []
  },
  {
   "cell_type": "code",
   "execution_count": null,
   "id": "783000f3",
   "metadata": {},
   "outputs": [],
   "source": []
  }
 ],
 "metadata": {
  "kernelspec": {
   "display_name": "Python 3 (ipykernel)",
   "language": "python",
   "name": "python3"
  },
  "language_info": {
   "codemirror_mode": {
    "name": "ipython",
    "version": 3
   },
   "file_extension": ".py",
   "mimetype": "text/x-python",
   "name": "python",
   "nbconvert_exporter": "python",
   "pygments_lexer": "ipython3",
   "version": "3.11.0"
  }
 },
 "nbformat": 4,
 "nbformat_minor": 5
}
